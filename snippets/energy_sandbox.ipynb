{
  "nbformat": 4,
  "nbformat_minor": 0,
  "metadata": {
    "colab": {
      "name": "energy-sandbox.ipynb",
      "provenance": [],
      "collapsed_sections": [],
      "authorship_tag": "ABX9TyM8f2/a1xwOCflr+7pWjGsr",
      "include_colab_link": true
    },
    "kernelspec": {
      "name": "python3",
      "display_name": "Python 3"
    },
    "language_info": {
      "name": "python"
    }
  },
  "cells": [
    {
      "cell_type": "markdown",
      "metadata": {
        "id": "view-in-github",
        "colab_type": "text"
      },
      "source": [
        "<a href=\"https://colab.research.google.com/github/mawildoer/energy/blob/main/snippets/energy_sandbox.ipynb\" target=\"_parent\"><img src=\"https://colab.research.google.com/assets/colab-badge.svg\" alt=\"Open In Colab\"/></a>"
      ]
    },
    {
      "cell_type": "code",
      "metadata": {
        "colab": {
          "base_uri": "https://localhost:8080/"
        },
        "id": "9MdmEUqXd3Fb",
        "outputId": "4c186468-883f-4baa-9b83-f9f2943212d0"
      },
      "source": [
        "# Pull resources\n",
        "!pip install geopandas rasterio\n",
        "\n",
        "# Get our repo\n",
        "!git clone https://github.com/mawildoer/energy\n",
        "\n",
        "# Install LFS hooks and get content\n",
        "!sudo apt-get install git-lfs\n",
        "%cd energy\n",
        "!git lfs install\n",
        "!git lfs pull\n",
        "%cd ../\n",
        "\n",
        "# Pull Our World in Data\n",
        "!git clone https://github.com/owid/owid-datasets/"
      ],
      "execution_count": null,
      "outputs": [
        {
          "output_type": "stream",
          "text": [
            "Collecting geopandas\n",
            "\u001b[?25l  Downloading https://files.pythonhosted.org/packages/d7/bf/e9cefb69d39155d122b6ddca53893b61535fa6ffdad70bf5ef708977f53f/geopandas-0.9.0-py2.py3-none-any.whl (994kB)\n",
            "\u001b[K     |████████████████████████████████| 1.0MB 3.7MB/s \n",
            "\u001b[?25hCollecting rasterio\n",
            "\u001b[?25l  Downloading https://files.pythonhosted.org/packages/e1/bf/d3c5e7df3828db144a6797269bf3aec31db96c20f13e75b93179eb059955/rasterio-1.2.3-cp37-cp37m-manylinux1_x86_64.whl (19.1MB)\n",
            "\u001b[K     |████████████████████████████████| 19.1MB 198kB/s \n",
            "\u001b[?25hCollecting fiona>=1.8\n",
            "\u001b[?25l  Downloading https://files.pythonhosted.org/packages/ea/2a/404b22883298a3efe9c6ef8d67acbf2c38443fa366ee9cd4cd34e17626ea/Fiona-1.8.19-cp37-cp37m-manylinux1_x86_64.whl (15.3MB)\n",
            "\u001b[K     |████████████████████████████████| 15.3MB 15.4MB/s \n",
            "\u001b[?25hRequirement already satisfied: shapely>=1.6 in /usr/local/lib/python3.7/dist-packages (from geopandas) (1.7.1)\n",
            "Collecting pyproj>=2.2.0\n",
            "\u001b[?25l  Downloading https://files.pythonhosted.org/packages/b1/72/d52e9ca81caef056062d71991b0e9b1d16af042245627c5d0e4916a36c4f/pyproj-3.0.1-cp37-cp37m-manylinux2010_x86_64.whl (6.5MB)\n",
            "\u001b[K     |████████████████████████████████| 6.5MB 21.4MB/s \n",
            "\u001b[?25hRequirement already satisfied: pandas>=0.24.0 in /usr/local/lib/python3.7/dist-packages (from geopandas) (1.1.5)\n",
            "Collecting snuggs>=1.4.1\n",
            "  Downloading https://files.pythonhosted.org/packages/cc/0e/d27d6e806d6c0d1a2cfdc5d1f088e42339a0a54a09c3343f7f81ec8947ea/snuggs-1.4.7-py3-none-any.whl\n",
            "Collecting cligj>=0.5\n",
            "  Downloading https://files.pythonhosted.org/packages/42/1e/947eadf10d6804bf276eb8a038bd5307996dceaaa41cfd21b7a15ec62f5d/cligj-0.7.1-py3-none-any.whl\n",
            "Requirement already satisfied: click<8,>=4.0 in /usr/local/lib/python3.7/dist-packages (from rasterio) (7.1.2)\n",
            "Requirement already satisfied: certifi in /usr/local/lib/python3.7/dist-packages (from rasterio) (2020.12.5)\n",
            "Collecting affine\n",
            "  Downloading https://files.pythonhosted.org/packages/ac/a6/1a39a1ede71210e3ddaf623982b06ecfc5c5c03741ae659073159184cd3e/affine-2.3.0-py2.py3-none-any.whl\n",
            "Requirement already satisfied: numpy in /usr/local/lib/python3.7/dist-packages (from rasterio) (1.19.5)\n",
            "Requirement already satisfied: attrs in /usr/local/lib/python3.7/dist-packages (from rasterio) (20.3.0)\n",
            "Collecting click-plugins\n",
            "  Downloading https://files.pythonhosted.org/packages/e9/da/824b92d9942f4e472702488857914bdd50f73021efea15b4cad9aca8ecef/click_plugins-1.1.1-py2.py3-none-any.whl\n",
            "Requirement already satisfied: six>=1.7 in /usr/local/lib/python3.7/dist-packages (from fiona>=1.8->geopandas) (1.15.0)\n",
            "Collecting munch\n",
            "  Downloading https://files.pythonhosted.org/packages/cc/ab/85d8da5c9a45e072301beb37ad7f833cd344e04c817d97e0cc75681d248f/munch-2.5.0-py2.py3-none-any.whl\n",
            "Requirement already satisfied: pytz>=2017.2 in /usr/local/lib/python3.7/dist-packages (from pandas>=0.24.0->geopandas) (2018.9)\n",
            "Requirement already satisfied: python-dateutil>=2.7.3 in /usr/local/lib/python3.7/dist-packages (from pandas>=0.24.0->geopandas) (2.8.1)\n",
            "Requirement already satisfied: pyparsing>=2.1.6 in /usr/local/lib/python3.7/dist-packages (from snuggs>=1.4.1->rasterio) (2.4.7)\n",
            "Installing collected packages: munch, cligj, click-plugins, fiona, pyproj, geopandas, snuggs, affine, rasterio\n",
            "Successfully installed affine-2.3.0 click-plugins-1.1.1 cligj-0.7.1 fiona-1.8.19 geopandas-0.9.0 munch-2.5.0 pyproj-3.0.1 rasterio-1.2.3 snuggs-1.4.7\n",
            "Cloning into 'energy'...\n",
            "remote: Enumerating objects: 34, done.\u001b[K\n",
            "remote: Counting objects: 100% (34/34), done.\u001b[K\n",
            "remote: Compressing objects: 100% (26/26), done.\u001b[K\n",
            "remote: Total 34 (delta 8), reused 26 (delta 5), pack-reused 0\u001b[K\n",
            "Unpacking objects: 100% (34/34), done.\n",
            "Reading package lists... Done\n",
            "Building dependency tree       \n",
            "Reading state information... Done\n",
            "The following package was automatically installed and is no longer required:\n",
            "  libnvidia-common-460\n",
            "Use 'sudo apt autoremove' to remove it.\n",
            "The following NEW packages will be installed:\n",
            "  git-lfs\n",
            "0 upgraded, 1 newly installed, 0 to remove and 34 not upgraded.\n",
            "Need to get 2,129 kB of archives.\n",
            "After this operation, 7,662 kB of additional disk space will be used.\n",
            "Get:1 http://archive.ubuntu.com/ubuntu bionic/universe amd64 git-lfs amd64 2.3.4-1 [2,129 kB]\n",
            "Fetched 2,129 kB in 1s (2,358 kB/s)\n",
            "debconf: unable to initialize frontend: Dialog\n",
            "debconf: (No usable dialog-like program is installed, so the dialog based frontend cannot be used. at /usr/share/perl5/Debconf/FrontEnd/Dialog.pm line 76, <> line 1.)\n",
            "debconf: falling back to frontend: Readline\n",
            "debconf: unable to initialize frontend: Readline\n",
            "debconf: (This frontend requires a controlling tty.)\n",
            "debconf: falling back to frontend: Teletype\n",
            "dpkg-preconfigure: unable to re-open stdin: \n",
            "Selecting previously unselected package git-lfs.\n",
            "(Reading database ... 160690 files and directories currently installed.)\n",
            "Preparing to unpack .../git-lfs_2.3.4-1_amd64.deb ...\n",
            "Unpacking git-lfs (2.3.4-1) ...\n",
            "Setting up git-lfs (2.3.4-1) ...\n",
            "Processing triggers for man-db (2.8.3-2ubuntu0.1) ...\n",
            "/content/energy\n",
            "Updated git hooks.\n",
            "Git LFS initialized.\n",
            "Git LFS: (1 of 1 files) 23.62 MB / 23.62 MB\n",
            "/content\n",
            "Cloning into 'owid-datasets'...\n",
            "remote: Enumerating objects: 13788, done.\u001b[K\n",
            "remote: Counting objects: 100% (368/368), done.\u001b[K\n",
            "remote: Compressing objects: 100% (246/246), done.\u001b[K\n",
            "remote: Total 13788 (delta 163), reused 305 (delta 120), pack-reused 13420\u001b[K\n",
            "Receiving objects: 100% (13788/13788), 120.11 MiB | 20.97 MiB/s, done.\n",
            "Resolving deltas: 100% (5184/5184), done.\n",
            "Checking out files: 100% (2980/2980), done.\n"
          ],
          "name": "stdout"
        }
      ]
    },
    {
      "cell_type": "code",
      "metadata": {
        "id": "H-9D2abFd7B2"
      },
      "source": [
        "import attr\n",
        "\n",
        "import pandas as pd\n",
        "import geopandas as gp\n",
        "\n",
        "import numpy as np\n",
        "\n",
        "import rasterio\n",
        "import rasterio.plot\n",
        "import rasterio.features\n",
        "import rasterio.warp\n",
        "\n",
        "from matplotlib import pyplot"
      ],
      "execution_count": null,
      "outputs": []
    },
    {
      "cell_type": "code",
      "metadata": {
        "id": "j2reubRNn73V"
      },
      "source": [
        "dataset = rasterio.open('/content/energy/energy/data/gpw_v4_population_density_rev11_2000_2pt5_min.tif')\n",
        "pop_den = dataset.read(1, masked=True)\n",
        "pop_den.mask = np.logical_or(pop_den.mask, pop_den < 1)\n",
        "crs = dataset.crs\n",
        "transform = dataset.transform"
      ],
      "execution_count": null,
      "outputs": []
    },
    {
      "cell_type": "code",
      "metadata": {
        "id": "VZ1E0FPS6pcH"
      },
      "source": [
        "world = gp.read_file(gp.datasets.get_path('naturalearth_lowres'))\n",
        "world = world.to_crs(dataset.crs)"
      ],
      "execution_count": null,
      "outputs": []
    },
    {
      "cell_type": "code",
      "metadata": {
        "id": "eyhmwQOz_twD"
      },
      "source": [
        "@attr.s\n",
        "class CoordSys:\n",
        "  crs = attr.ib()\n",
        "  transform = attr.ib(default=None)\n",
        "  raster_shape = attr.ib(default=None)\n",
        "  project = None\n",
        "\n",
        "  @classmethod\n",
        "  def from_rasterio(cls, data):\n",
        "    return cls(str(data.crs), data.transform, dataset.shape)\n",
        "\n",
        "@attr.s\n",
        "class Raster:\n",
        "  crd: CoordSys = attr.ib()\n",
        "  array: np.ndarray = attr.ib()\n",
        "\n",
        "  @property\n",
        "  def crs(self):\n",
        "    return crd.crs\n",
        "\n",
        "  @property\n",
        "  def transform(self):\n",
        "    return crd.transform\n",
        "\n",
        "  @property\n",
        "  def shape(self):\n",
        "    return raster.shape\n",
        "\n",
        "  @classmethod\n",
        "  def from_geopandas(cls, df, series, shape=None, crd=None, stacking_func=None):\n",
        "    \"\"\"Create a raster from a geopandas dataframe.\"\"\"\n",
        "    if shape is None and crd.raster_shape is None:\n",
        "      raise ValueError(\"The shape must be specified either through the coordinate system or the shape argument. Neither is specified.\")\n",
        "    shape = shape if shape else crd.raster_shape  # default to explict shape\n",
        "\n",
        "    raster = cls(crd, np.ma.zeros(shape))\n",
        "    raster.array[:] = np.ma.masked\n",
        "\n",
        "    if df.crs != crd.crs:\n",
        "      df = df.to_crs(crd.crs)\n",
        "\n",
        "    for i, row in df.iterrows():\n",
        "      mask = rasterio.features.geometry_mask([row.geometry], shape, crd.transform)\n",
        "      raster.array.mask[mask] = False  # Do not mask off these regions, as we now have valid data there\n",
        "\n",
        "      if stacking_func is None:\n",
        "        raster.array[mask] = row[series]\n",
        "      else:\n",
        "        stacking_func(raster.array[mask], row[series])  # Could be a numpy add or similar\n",
        "\n",
        "    raster.array[raster.array.mask] = np.nan\n",
        "\n",
        "    return raster\n",
        "\n",
        "  def destory_masked(self, inplace=True):\n",
        "    if inplace:\n",
        "      out = self.array\n",
        "    else:\n",
        "      out = self.array.copy()\n",
        "    out[self.array.mask] = np.nan\n",
        "    return out\n",
        "      \n",
        "\n",
        "  def reproject(self, crd, inplace=False):\n",
        "    if self.crs == crd.crs and self.transform == crd.transform:\n",
        "      if crd.raster_shape is not None:\n",
        "        if self.shape == crd.raster_shape:\n",
        "          return self \n",
        "    \n",
        "    with rasterio.Env():\n",
        "        source = self.destory_masked(inplace)\n",
        "        dest = np.full(crd.raster_shape, np.nan)\n",
        "\n",
        "        rasterio.warp.reproject(\n",
        "          source,\n",
        "          dest,\n",
        "          src_transform=self.transform,\n",
        "          src_crs=self.crs,\n",
        "          dst_transform=crd.transform,\n",
        "          dst_crs=crd.crs, \n",
        "          resampling=rasterio.warp.Resampling.nearest)\n",
        "\n",
        "    @classmethod\n",
        "    def from_rasterio(cls, data_reader: rasterio.DatasetReader, crd=None, band=1):\n",
        "      \"\"\"Create a raster from a rasterio DatasetReader.\"\"\"\n",
        "      raise NotImplemented() #if data_reader."
      ],
      "execution_count": null,
      "outputs": []
    },
    {
      "cell_type": "code",
      "metadata": {
        "colab": {
          "base_uri": "https://localhost:8080/",
          "height": 660
        },
        "id": "PQ-QXJD3fVy3",
        "outputId": "ea18c932-8d9e-4a23-c6d3-ad7a0338c391"
      },
      "source": [
        "CoordSys.project = CoordSys.from_rasterio(dataset)\n",
        "gdp = Raster.from_geopandas(world.head(), \"gdp_md_est\", crd=CoordSys.project)\n",
        "print(gdp)\n",
        "pyplot.imshow(gdp.array)"
      ],
      "execution_count": null,
      "outputs": [
        {
          "output_type": "stream",
          "text": [
            "Raster(crd=CoordSys(crs='EPSG:4326', transform=Affine(0.0416666666666667, 0.0, -180.0,\n",
            "       0.0, -0.0416666666666667, 89.99999999999994), raster_shape=(4320, 8640)), array=masked_array(\n",
            "  data=[[18560000.0, 18560000.0, 18560000.0, ..., 18560000.0, 18560000.0,\n",
            "         18560000.0],\n",
            "        [18560000.0, 18560000.0, 18560000.0, ..., 18560000.0, 18560000.0,\n",
            "         18560000.0],\n",
            "        [18560000.0, 18560000.0, 18560000.0, ..., 18560000.0, 18560000.0,\n",
            "         18560000.0],\n",
            "        ...,\n",
            "        [18560000.0, 18560000.0, 18560000.0, ..., 18560000.0, 18560000.0,\n",
            "         18560000.0],\n",
            "        [18560000.0, 18560000.0, 18560000.0, ..., 18560000.0, 18560000.0,\n",
            "         18560000.0],\n",
            "        [18560000.0, 18560000.0, 18560000.0, ..., 18560000.0, 18560000.0,\n",
            "         18560000.0]],\n",
            "  mask=[[False, False, False, ..., False, False, False],\n",
            "        [False, False, False, ..., False, False, False],\n",
            "        [False, False, False, ..., False, False, False],\n",
            "        ...,\n",
            "        [False, False, False, ..., False, False, False],\n",
            "        [False, False, False, ..., False, False, False],\n",
            "        [False, False, False, ..., False, False, False]],\n",
            "  fill_value=1e+20))\n"
          ],
          "name": "stdout"
        },
        {
          "output_type": "execute_result",
          "data": {
            "text/plain": [
              "<matplotlib.image.AxesImage at 0x7fc132fe6110>"
            ]
          },
          "metadata": {
            "tags": []
          },
          "execution_count": 43
        },
        {
          "output_type": "display_data",
          "data": {
            "image/png": "[encoded data removed]",
            "text/plain": [
              "<Figure size 432x288 with 1 Axes>"
            ]
          },
          "metadata": {
            "tags": [],
            "needs_background": "light"
          }
        }
      ]
    },
    {
      "cell_type": "code",
      "metadata": {
        "colab": {
          "base_uri": "https://localhost:8080/"
        },
        "id": "-jAsZfdCt7ND",
        "outputId": "c4330a37-69e9-4e1c-b268-f4b73c9e5b02"
      },
      "source": [
        "dataset.shape"
      ],
      "execution_count": null,
      "outputs": [
        {
          "output_type": "execute_result",
          "data": {
            "text/plain": [
              "(4320, 8640)"
            ]
          },
          "metadata": {
            "tags": []
          },
          "execution_count": 25
        }
      ]
    },
    {
      "cell_type": "code",
      "metadata": {
        "colab": {
          "base_uri": "https://localhost:8080/"
        },
        "id": "rFnTj_jeyLAj",
        "outputId": "94c41c83-d035-4245-fe67-e7e10e61181a"
      },
      "source": [
        "CoordSys.project.crs"
      ],
      "execution_count": null,
      "outputs": [
        {
          "output_type": "execute_result",
          "data": {
            "text/plain": [
              "<Geographic 2D CRS: EPSG:4326>\n",
              "Name: WGS 84\n",
              "Axis Info [ellipsoidal]:\n",
              "- Lat[north]: Geodetic latitude (degree)\n",
              "- Lon[east]: Geodetic longitude (degree)\n",
              "Area of Use:\n",
              "- name: World.\n",
              "- bounds: (-180.0, -90.0, 180.0, 90.0)\n",
              "Datum: World Geodetic System 1984\n",
              "- Ellipsoid: WGS 84\n",
              "- Prime Meridian: Greenwich"
            ]
          },
          "metadata": {
            "tags": []
          },
          "execution_count": 19
        }
      ]
    },
    {
      "cell_type": "code",
      "metadata": {
        "colab": {
          "base_uri": "https://localhost:8080/"
        },
        "id": "hiL64RkZyNdE",
        "outputId": "0440a987-807b-4f1f-d0ca-6b3d3196a522"
      },
      "source": [
        "world.get_transform"
      ],
      "execution_count": null,
      "outputs": [
        {
          "output_type": "execute_result",
          "data": {
            "text/plain": [
              "<bound method DataFrame.transform of        pop_est  ...                                           geometry\n",
              "0       920938  ...  MULTIPOLYGON (((180.00000 -16.06713, 180.00000...\n",
              "1     53950935  ...  POLYGON ((33.90371 -0.95000, 34.07262 -1.05982...\n",
              "2       603253  ...  POLYGON ((-8.66559 27.65643, -8.66512 27.58948...\n",
              "3     35623680  ...  MULTIPOLYGON (((-122.84000 49.00000, -122.9742...\n",
              "4    326625791  ...  MULTIPOLYGON (((-122.84000 49.00000, -120.0000...\n",
              "..         ...  ...                                                ...\n",
              "172    7111024  ...  POLYGON ((18.82982 45.90887, 18.82984 45.90888...\n",
              "173     642550  ...  POLYGON ((20.07070 42.58863, 19.80161 42.50009...\n",
              "174    1895250  ...  POLYGON ((20.59025 41.85541, 20.52295 42.21787...\n",
              "175    1218208  ...  POLYGON ((-61.68000 10.76000, -61.10500 10.890...\n",
              "176   13026129  ...  POLYGON ((30.83385 3.50917, 29.95350 4.17370, ...\n",
              "\n",
              "[177 rows x 6 columns]>"
            ]
          },
          "metadata": {
            "tags": []
          },
          "execution_count": 23
        }
      ]
    },
    {
      "cell_type": "code",
      "metadata": {
        "colab": {
          "base_uri": "https://localhost:8080/"
        },
        "id": "sgBsM0giyRhW",
        "outputId": "c53ca5fb-d3d5-4441-c1c4-460c6cf75984"
      },
      "source": [
        "rasterio.crs.CRS.from_string(str(CoordSys.project.crs))"
      ],
      "execution_count": null,
      "outputs": [
        {
          "output_type": "execute_result",
          "data": {
            "text/plain": [
              "CRS.from_epsg(4326)"
            ]
          },
          "metadata": {
            "tags": []
          },
          "execution_count": 22
        }
      ]
    },
    {
      "cell_type": "code",
      "metadata": {
        "colab": {
          "base_uri": "https://localhost:8080/",
          "height": 91
        },
        "id": "vIjQW5knygPl",
        "outputId": "5436000f-5997-4fd7-bbfa-fb7dd629e013"
      },
      "source": [
        "str(world.iloc[0].geometry)"
      ],
      "execution_count": null,
      "outputs": [
        {
          "output_type": "execute_result",
          "data": {
            "application/vnd.google.colaboratory.intrinsic+json": {
              "type": "string"
            },
            "text/plain": [
              "'MULTIPOLYGON (((180 -16.06713266364245, 180 -16.5552165666392, 179.3641426619641 -16.80135407694688, 178.7250593629971 -17.01204167436804, 178.5968385951171 -16.63915, 179.0966093629971 -16.4339842775474, 179.4135093629971 -16.3790542775474, 180 -16.06713266364245)), ((178.12557 -17.50481, 178.3736 -17.33992, 178.71806 -17.62846, 178.55271 -18.15059, 177.93266 -18.28799, 177.38146 -18.16432, 177.28504 -17.72465, 177.67087 -17.38114, 178.12557 -17.50481)), ((-179.7933201090486 -16.02088225674122, -179.9173693847653 -16.5017831356494, -180 -16.5552165666392, -180 -16.06713266364245, -179.7933201090486 -16.02088225674122)))'"
            ]
          },
          "metadata": {
            "tags": []
          },
          "execution_count": 33
        }
      ]
    },
    {
      "cell_type": "code",
      "metadata": {
        "colab": {
          "base_uri": "https://localhost:8080/",
          "height": 206
        },
        "id": "cVO4-xIV3RmZ",
        "outputId": "6d115d1c-4dd2-4442-b3ce-9e7323ae364f"
      },
      "source": [
        "world.head()"
      ],
      "execution_count": null,
      "outputs": [
        {
          "output_type": "execute_result",
          "data": {
            "text/html": [
              "<div>\n",
              "<style scoped>\n",
              "    .dataframe tbody tr th:only-of-type {\n",
              "        vertical-align: middle;\n",
              "    }\n",
              "\n",
              "    .dataframe tbody tr th {\n",
              "        vertical-align: top;\n",
              "    }\n",
              "\n",
              "    .dataframe thead th {\n",
              "        text-align: right;\n",
              "    }\n",
              "</style>\n",
              "<table border=\"1\" class=\"dataframe\">\n",
              "  <thead>\n",
              "    <tr style=\"text-align: right;\">\n",
              "      <th></th>\n",
              "      <th>pop_est</th>\n",
              "      <th>continent</th>\n",
              "      <th>name</th>\n",
              "      <th>iso_a3</th>\n",
              "      <th>gdp_md_est</th>\n",
              "      <th>geometry</th>\n",
              "    </tr>\n",
              "  </thead>\n",
              "  <tbody>\n",
              "    <tr>\n",
              "      <th>0</th>\n",
              "      <td>920938</td>\n",
              "      <td>Oceania</td>\n",
              "      <td>Fiji</td>\n",
              "      <td>FJI</td>\n",
              "      <td>8374.0</td>\n",
              "      <td>MULTIPOLYGON (((180.00000 -16.06713, 180.00000...</td>\n",
              "    </tr>\n",
              "    <tr>\n",
              "      <th>1</th>\n",
              "      <td>53950935</td>\n",
              "      <td>Africa</td>\n",
              "      <td>Tanzania</td>\n",
              "      <td>TZA</td>\n",
              "      <td>150600.0</td>\n",
              "      <td>POLYGON ((33.90371 -0.95000, 34.07262 -1.05982...</td>\n",
              "    </tr>\n",
              "    <tr>\n",
              "      <th>2</th>\n",
              "      <td>603253</td>\n",
              "      <td>Africa</td>\n",
              "      <td>W. Sahara</td>\n",
              "      <td>ESH</td>\n",
              "      <td>906.5</td>\n",
              "      <td>POLYGON ((-8.66559 27.65643, -8.66512 27.58948...</td>\n",
              "    </tr>\n",
              "    <tr>\n",
              "      <th>3</th>\n",
              "      <td>35623680</td>\n",
              "      <td>North America</td>\n",
              "      <td>Canada</td>\n",
              "      <td>CAN</td>\n",
              "      <td>1674000.0</td>\n",
              "      <td>MULTIPOLYGON (((-122.84000 49.00000, -122.9742...</td>\n",
              "    </tr>\n",
              "    <tr>\n",
              "      <th>4</th>\n",
              "      <td>326625791</td>\n",
              "      <td>North America</td>\n",
              "      <td>United States of America</td>\n",
              "      <td>USA</td>\n",
              "      <td>18560000.0</td>\n",
              "      <td>MULTIPOLYGON (((-122.84000 49.00000, -120.0000...</td>\n",
              "    </tr>\n",
              "  </tbody>\n",
              "</table>\n",
              "</div>"
            ],
            "text/plain": [
              "     pop_est  ...                                           geometry\n",
              "0     920938  ...  MULTIPOLYGON (((180.00000 -16.06713, 180.00000...\n",
              "1   53950935  ...  POLYGON ((33.90371 -0.95000, 34.07262 -1.05982...\n",
              "2     603253  ...  POLYGON ((-8.66559 27.65643, -8.66512 27.58948...\n",
              "3   35623680  ...  MULTIPOLYGON (((-122.84000 49.00000, -122.9742...\n",
              "4  326625791  ...  MULTIPOLYGON (((-122.84000 49.00000, -120.0000...\n",
              "\n",
              "[5 rows x 6 columns]"
            ]
          },
          "metadata": {
            "tags": []
          },
          "execution_count": 44
        }
      ]
    },
    {
      "cell_type": "code",
      "metadata": {
        "id": "E_LArXGG3wV8"
      },
      "source": [
        ""
      ],
      "execution_count": null,
      "outputs": []
    }
  ]
}