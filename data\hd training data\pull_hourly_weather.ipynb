{
  "nbformat": 4,
  "nbformat_minor": 0,
  "metadata": {
    "colab": {
      "name": "hourly-weather.ipynb",
      "provenance": [],
      "collapsed_sections": [],
      "authorship_tag": "ABX9TyNzyLCE55/ZNj3+ZG5iBjeQ",
      "include_colab_link": true
    },
    "kernelspec": {
      "name": "python3",
      "display_name": "Python 3"
    },
    "language_info": {
      "name": "python"
    }
  },
  "cells": [
    {
      "cell_type": "markdown",
      "metadata": {
        "id": "view-in-github",
        "colab_type": "text"
      },
      "source": [
        "<a href=\"https://colab.research.google.com/github/mawildoer/energy/blob/main/data%5Chd%20training%20data%5Cpull_hourly_weather.ipynb\" target=\"_parent\"><img src=\"https://colab.research.google.com/assets/colab-badge.svg\" alt=\"Open In Colab\"/></a>"
      ]
    },
    {
      "cell_type": "code",
      "metadata": {
        "id": "_gGq0J1ZtY9f",
        "colab": {
          "base_uri": "https://localhost:8080/"
        },
        "outputId": "16c74331-e5a8-4d36-c6e4-113046d78e30"
      },
      "source": [
        "!pip install meteostat\n",
        "\n",
        "import pandas as pd\n",
        "\n",
        "# Import Meteostat library and dependencies\n",
        "from datetime import datetime, timedelta\n",
        "import matplotlib.pyplot as plt\n",
        "from meteostat import Point, Daily, Hourly\n",
        "\n",
        "from pathlib import Path"
      ],
      "execution_count": 1,
      "outputs": [
        {
          "output_type": "stream",
          "text": [
            "Collecting meteostat\n",
            "  Downloading https://files.pythonhosted.org/packages/12/fe/952b34dab981d1cbbd99aa0029a3dd60643687358740677e10463683d23c/meteostat-1.2.2.tar.gz\n",
            "Requirement already satisfied: pandas>=1.1 in /usr/local/lib/python3.7/dist-packages (from meteostat) (1.1.5)\n",
            "Requirement already satisfied: pytz in /usr/local/lib/python3.7/dist-packages (from meteostat) (2018.9)\n",
            "Requirement already satisfied: numpy in /usr/local/lib/python3.7/dist-packages (from meteostat) (1.19.5)\n",
            "Requirement already satisfied: python-dateutil>=2.7.3 in /usr/local/lib/python3.7/dist-packages (from pandas>=1.1->meteostat) (2.8.1)\n",
            "Requirement already satisfied: six>=1.5 in /usr/local/lib/python3.7/dist-packages (from python-dateutil>=2.7.3->pandas>=1.1->meteostat) (1.15.0)\n",
            "Building wheels for collected packages: meteostat\n",
            "  Building wheel for meteostat (setup.py) ... \u001b[?25l\u001b[?25hdone\n",
            "  Created wheel for meteostat: filename=meteostat-1.2.2-cp37-none-any.whl size=15689 sha256=2448e1fd879a043dc586eb11bef50cdd2ee9a218589fa79a0ff1506dc81dec27\n",
            "  Stored in directory: /root/.cache/pip/wheels/bd/22/d0/1f8b9bdc0d26b89e0132a4e9d445f793a3ee13716485029415\n",
            "Successfully built meteostat\n",
            "Installing collected packages: meteostat\n",
            "Successfully installed meteostat-1.2.2\n"
          ],
          "name": "stdout"
        }
      ]
    },
    {
      "cell_type": "code",
      "metadata": {
        "id": "wxofmZiwu0Yd"
      },
      "source": [
        "hd_cities = pd.read_excel(\"city information.xlsx\")\n",
        "hd_cities.rename(columns={\"GDP ($USD) per-person\": \"GDP\"}, inplace=True)\n",
        "hd_cities"
      ],
      "execution_count": 3,
      "outputs": []
    },
    {
      "cell_type": "code",
      "metadata": {
        "id": "zXY7tXSSu84H"
      },
      "source": [
        "# Set time period\n",
        "start = datetime(2015, 7, 1)\n",
        "end = datetime.now()\n",
        "\n",
        "for i, row in hd_cities.iterrows():\n",
        "  point = Point(row.Lat, row.Long)\n",
        "  data = Hourly(point, start, end)\n",
        "  data = data.fetch()\n",
        "  \n",
        "  with Path(\"{}_weather.xlsx\".format(row[\"Authority Code\"])).open(mode=\"wb\") as f:\n",
        "    data.to_excel(f)"
      ],
      "execution_count": 17,
      "outputs": []
    }
  ]
}